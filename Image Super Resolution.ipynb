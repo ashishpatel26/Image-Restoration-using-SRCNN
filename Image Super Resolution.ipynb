{
 "cells": [
  {
   "cell_type": "markdown",
   "metadata": {},
   "source": [
    "# Using The Super Resolution Convolutional Neural Network for Image Restoration\n"
   ]
  },
  {
   "cell_type": "code",
   "execution_count": 4,
   "metadata": {},
   "outputs": [],
   "source": [
    "import sys\n",
    "import keras\n",
    "import cv2\n",
    "import numpy\n",
    "import matplotlib\n",
    "import skimage"
   ]
  },
  {
   "cell_type": "code",
   "execution_count": 7,
   "metadata": {},
   "outputs": [],
   "source": [
    "from keras.models import Sequential\n",
    "from keras.layers import Conv2D\n",
    "from keras.optimizers import Adam\n",
    "from skimage.measure import compare_ssim as ssim\n",
    "from matplotlib import pyplot as plt\n",
    "import numpy as np\n",
    "import math\n",
    "import os\n",
    "\n",
    "# python magic function, displays pyplot figures in the notebook\n",
    "%matplotlib inline"
   ]
  },
  {
   "cell_type": "markdown",
   "metadata": {},
   "source": [
    "# 1. Image Quality Metrics\n",
    "The structural similiarity (SSIM) index was imported directly from the scikit-image library; however, we will have to define our own functions for the PSNR and MSE."
   ]
  },
  {
   "cell_type": "code",
   "execution_count": 8,
   "metadata": {},
   "outputs": [],
   "source": [
    "#define a function for peak signal-to-noise ratio (PSNR)\n",
    "def psnr(target,ref):\n",
    "    #assume RGB image\n",
    "    target_data=target.astype(float)\n",
    "    ref_data=ref.astype(float)\n",
    "    \n",
    "    diff=ref_data-target_data\n",
    "    diff=diff.flatten('C')\n",
    "    \n",
    "    rmse=math.sqrt(np.mean(diff**2.))\n",
    "    \n",
    "    return 20*math.log10(255./rmse)\n",
    "\n",
    "#define function for mean squared error(MSE)\n",
    "def mse(target,ref):\n",
    "    # the MSE between the two images is the sum of the squared difference between the two images\n",
    "    err=np.sum((target.astype('float')-ref.astype('float'))**2)\n",
    "    err/=float(target.shape[0]*target.shape[1])\n",
    "    \n",
    "    return err\n",
    "\n",
    "# define function that combines all three image quality metrics\n",
    "def compare_images(target,ref):\n",
    "    scores=[]\n",
    "    scores.append(psnr(target,ref))\n",
    "    scores.append(mse(target,ref))\n",
    "    scores.append(ssim(target,ref,multichannel=True))\n",
    "    \n",
    "    return scores"
   ]
  },
  {
   "cell_type": "markdown",
   "metadata": {},
   "source": [
    "# 2. Preparing Images\n"
   ]
  },
  {
   "cell_type": "markdown",
   "metadata": {},
   "source": [
    "using the same images that were used in the original SRCNN paper. We can download these images from http://mmlab.ie.cuhk.edu.hk/projects/SRCNN.html."
   ]
  },
  {
   "cell_type": "code",
   "execution_count": null,
   "metadata": {},
   "outputs": [],
   "source": []
  }
 ],
 "metadata": {
  "kernelspec": {
   "display_name": "Python 3",
   "language": "python",
   "name": "python3"
  },
  "language_info": {
   "codemirror_mode": {
    "name": "ipython",
    "version": 3
   },
   "file_extension": ".py",
   "mimetype": "text/x-python",
   "name": "python",
   "nbconvert_exporter": "python",
   "pygments_lexer": "ipython3",
   "version": "3.6.7"
  }
 },
 "nbformat": 4,
 "nbformat_minor": 2
}
