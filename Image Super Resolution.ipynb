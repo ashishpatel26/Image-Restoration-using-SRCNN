{
 "cells": [
  {
   "cell_type": "markdown",
   "metadata": {},
   "source": [
    "# Using The Super Resolution Convolutional Neural Network for Image Restoration\n",
    "\n",
    "The goal of super-resolution (SR) is to recover a high resolution image(enhance the image) from a low resolution input.\n",
    "\n",
    "To accomplish this goal, we will deploy the super-resolution convolution neural network (SRCNN) using Keras. This network was published in the paper, \"Image Super-Resolution Using Deep Convolutional Networks\" by Chao Dong, et al. in 2014.  https://arxiv.org/abs/1501.00092.\n",
    "\n",
    " the SRCNN is a deep convolutional neural network that learns end-to-end mapping of low resolution to high resolution images. As a result, we can use it to improve the image quality of low resolution images. To evaluate the performance of this network, we will be using three image quality metrics: peak signal to noise ratio (PSNR), mean squared error (MSE), and the structural similarity (SSIM) index."
   ]
  }
 ],
 "metadata": {
  "kernelspec": {
   "display_name": "Python 3",
   "language": "python",
   "name": "python3"
  },
  "language_info": {
   "codemirror_mode": {
    "name": "ipython",
    "version": 3
   },
   "file_extension": ".py",
   "mimetype": "text/x-python",
   "name": "python",
   "nbconvert_exporter": "python",
   "pygments_lexer": "ipython3",
   "version": "3.6.7"
  }
 },
 "nbformat": 4,
 "nbformat_minor": 2
}
